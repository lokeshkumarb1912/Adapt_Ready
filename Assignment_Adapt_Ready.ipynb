{
 "cells": [
  {
   "cell_type": "markdown",
   "id": "e6222afc",
   "metadata": {},
   "source": [
    "#### 1. Download the data from the file data source and provide possible data insights."
   ]
  },
  {
   "cell_type": "code",
   "execution_count": 1,
   "id": "8044f5d8",
   "metadata": {
    "scrolled": true
   },
   "outputs": [
    {
     "name": "stderr",
     "output_type": "stream",
     "text": [
      "C:\\Users\\lokes\\AppData\\Local\\Temp\\ipykernel_25032\\3860092386.py:2: DtypeWarning: Columns (16) have mixed types. Specify dtype option on import or set low_memory=False.\n",
      "  data = pd.read_csv(r\"C:\\Users\\lokes\\Desktop\\Data\\complaints.csv\")\n"
     ]
    }
   ],
   "source": [
    "import pandas as pd\n",
    "data = pd.read_csv(r\"C:\\Users\\lokes\\Desktop\\Data\\complaints.csv\")"
   ]
  },
  {
   "cell_type": "code",
   "execution_count": 2,
   "id": "32b70dc4",
   "metadata": {},
   "outputs": [
    {
     "data": {
      "text/html": [
       "<div>\n",
       "<style scoped>\n",
       "    .dataframe tbody tr th:only-of-type {\n",
       "        vertical-align: middle;\n",
       "    }\n",
       "\n",
       "    .dataframe tbody tr th {\n",
       "        vertical-align: top;\n",
       "    }\n",
       "\n",
       "    .dataframe thead th {\n",
       "        text-align: right;\n",
       "    }\n",
       "</style>\n",
       "<table border=\"1\" class=\"dataframe\">\n",
       "  <thead>\n",
       "    <tr style=\"text-align: right;\">\n",
       "      <th></th>\n",
       "      <th>Date received</th>\n",
       "      <th>Product</th>\n",
       "      <th>Sub-product</th>\n",
       "      <th>Issue</th>\n",
       "      <th>Sub-issue</th>\n",
       "      <th>Consumer complaint narrative</th>\n",
       "      <th>Company public response</th>\n",
       "      <th>Company</th>\n",
       "      <th>State</th>\n",
       "      <th>ZIP code</th>\n",
       "      <th>Tags</th>\n",
       "      <th>Consumer consent provided?</th>\n",
       "      <th>Submitted via</th>\n",
       "      <th>Date sent to company</th>\n",
       "      <th>Company response to consumer</th>\n",
       "      <th>Timely response?</th>\n",
       "      <th>Consumer disputed?</th>\n",
       "      <th>Complaint ID</th>\n",
       "    </tr>\n",
       "  </thead>\n",
       "  <tbody>\n",
       "    <tr>\n",
       "      <th>0</th>\n",
       "      <td>2024-01-24</td>\n",
       "      <td>Credit reporting or other personal consumer re...</td>\n",
       "      <td>Credit reporting</td>\n",
       "      <td>Incorrect information on your report</td>\n",
       "      <td>Account information incorrect</td>\n",
       "      <td>NaN</td>\n",
       "      <td>Company has responded to the consumer and the ...</td>\n",
       "      <td>TRANSUNION INTERMEDIATE HOLDINGS, INC.</td>\n",
       "      <td>FL</td>\n",
       "      <td>33578</td>\n",
       "      <td>NaN</td>\n",
       "      <td>Consent not provided</td>\n",
       "      <td>Web</td>\n",
       "      <td>2024-01-24</td>\n",
       "      <td>Closed with explanation</td>\n",
       "      <td>Yes</td>\n",
       "      <td>NaN</td>\n",
       "      <td>8205544</td>\n",
       "    </tr>\n",
       "    <tr>\n",
       "      <th>1</th>\n",
       "      <td>2024-02-26</td>\n",
       "      <td>Debt collection</td>\n",
       "      <td>Other debt</td>\n",
       "      <td>Threatened to contact someone or share informa...</td>\n",
       "      <td>Talked to a third-party about your debt</td>\n",
       "      <td>NaN</td>\n",
       "      <td>NaN</td>\n",
       "      <td>Marlette Funding, LLC</td>\n",
       "      <td>IL</td>\n",
       "      <td>60060</td>\n",
       "      <td>NaN</td>\n",
       "      <td>Consent not provided</td>\n",
       "      <td>Web</td>\n",
       "      <td>2024-02-26</td>\n",
       "      <td>Closed with explanation</td>\n",
       "      <td>Yes</td>\n",
       "      <td>NaN</td>\n",
       "      <td>8424268</td>\n",
       "    </tr>\n",
       "    <tr>\n",
       "      <th>2</th>\n",
       "      <td>2024-02-26</td>\n",
       "      <td>Credit reporting or other personal consumer re...</td>\n",
       "      <td>Credit reporting</td>\n",
       "      <td>Incorrect information on your report</td>\n",
       "      <td>Information belongs to someone else</td>\n",
       "      <td>NaN</td>\n",
       "      <td>Company believes it acted appropriately as aut...</td>\n",
       "      <td>CCS Financial Services, Inc.</td>\n",
       "      <td>NC</td>\n",
       "      <td>27536</td>\n",
       "      <td>NaN</td>\n",
       "      <td>Consent not provided</td>\n",
       "      <td>Web</td>\n",
       "      <td>2024-02-26</td>\n",
       "      <td>Closed with non-monetary relief</td>\n",
       "      <td>Yes</td>\n",
       "      <td>NaN</td>\n",
       "      <td>8423775</td>\n",
       "    </tr>\n",
       "    <tr>\n",
       "      <th>3</th>\n",
       "      <td>2024-02-20</td>\n",
       "      <td>Credit reporting or other personal consumer re...</td>\n",
       "      <td>Credit reporting</td>\n",
       "      <td>Improper use of your report</td>\n",
       "      <td>Reporting company used your report improperly</td>\n",
       "      <td>I am disappointed to have received a credit re...</td>\n",
       "      <td>NaN</td>\n",
       "      <td>LEXISNEXIS</td>\n",
       "      <td>CA</td>\n",
       "      <td>94124</td>\n",
       "      <td>NaN</td>\n",
       "      <td>Consent provided</td>\n",
       "      <td>Web</td>\n",
       "      <td>2024-02-20</td>\n",
       "      <td>Closed with explanation</td>\n",
       "      <td>Yes</td>\n",
       "      <td>NaN</td>\n",
       "      <td>8379830</td>\n",
       "    </tr>\n",
       "    <tr>\n",
       "      <th>4</th>\n",
       "      <td>2024-01-26</td>\n",
       "      <td>Credit reporting or other personal consumer re...</td>\n",
       "      <td>Credit reporting</td>\n",
       "      <td>Incorrect information on your report</td>\n",
       "      <td>Information belongs to someone else</td>\n",
       "      <td>The companies, along with the credit reporting...</td>\n",
       "      <td>NaN</td>\n",
       "      <td>EQUIFAX, INC.</td>\n",
       "      <td>NC</td>\n",
       "      <td>28804</td>\n",
       "      <td>NaN</td>\n",
       "      <td>Consent provided</td>\n",
       "      <td>Web</td>\n",
       "      <td>2024-01-26</td>\n",
       "      <td>Closed with non-monetary relief</td>\n",
       "      <td>Yes</td>\n",
       "      <td>NaN</td>\n",
       "      <td>8232435</td>\n",
       "    </tr>\n",
       "  </tbody>\n",
       "</table>\n",
       "</div>"
      ],
      "text/plain": [
       "  Date received                                            Product  \\\n",
       "0    2024-01-24  Credit reporting or other personal consumer re...   \n",
       "1    2024-02-26                                    Debt collection   \n",
       "2    2024-02-26  Credit reporting or other personal consumer re...   \n",
       "3    2024-02-20  Credit reporting or other personal consumer re...   \n",
       "4    2024-01-26  Credit reporting or other personal consumer re...   \n",
       "\n",
       "        Sub-product                                              Issue  \\\n",
       "0  Credit reporting               Incorrect information on your report   \n",
       "1        Other debt  Threatened to contact someone or share informa...   \n",
       "2  Credit reporting               Incorrect information on your report   \n",
       "3  Credit reporting                        Improper use of your report   \n",
       "4  Credit reporting               Incorrect information on your report   \n",
       "\n",
       "                                       Sub-issue  \\\n",
       "0                  Account information incorrect   \n",
       "1        Talked to a third-party about your debt   \n",
       "2            Information belongs to someone else   \n",
       "3  Reporting company used your report improperly   \n",
       "4            Information belongs to someone else   \n",
       "\n",
       "                        Consumer complaint narrative  \\\n",
       "0                                                NaN   \n",
       "1                                                NaN   \n",
       "2                                                NaN   \n",
       "3  I am disappointed to have received a credit re...   \n",
       "4  The companies, along with the credit reporting...   \n",
       "\n",
       "                             Company public response  \\\n",
       "0  Company has responded to the consumer and the ...   \n",
       "1                                                NaN   \n",
       "2  Company believes it acted appropriately as aut...   \n",
       "3                                                NaN   \n",
       "4                                                NaN   \n",
       "\n",
       "                                  Company State ZIP code Tags  \\\n",
       "0  TRANSUNION INTERMEDIATE HOLDINGS, INC.    FL    33578  NaN   \n",
       "1                   Marlette Funding, LLC    IL    60060  NaN   \n",
       "2            CCS Financial Services, Inc.    NC    27536  NaN   \n",
       "3                              LEXISNEXIS    CA    94124  NaN   \n",
       "4                           EQUIFAX, INC.    NC    28804  NaN   \n",
       "\n",
       "  Consumer consent provided? Submitted via Date sent to company  \\\n",
       "0       Consent not provided           Web           2024-01-24   \n",
       "1       Consent not provided           Web           2024-02-26   \n",
       "2       Consent not provided           Web           2024-02-26   \n",
       "3           Consent provided           Web           2024-02-20   \n",
       "4           Consent provided           Web           2024-01-26   \n",
       "\n",
       "      Company response to consumer Timely response? Consumer disputed?  \\\n",
       "0          Closed with explanation              Yes                NaN   \n",
       "1          Closed with explanation              Yes                NaN   \n",
       "2  Closed with non-monetary relief              Yes                NaN   \n",
       "3          Closed with explanation              Yes                NaN   \n",
       "4  Closed with non-monetary relief              Yes                NaN   \n",
       "\n",
       "   Complaint ID  \n",
       "0       8205544  \n",
       "1       8424268  \n",
       "2       8423775  \n",
       "3       8379830  \n",
       "4       8232435  "
      ]
     },
     "execution_count": 2,
     "metadata": {},
     "output_type": "execute_result"
    }
   ],
   "source": [
    "data.head()"
   ]
  },
  {
   "cell_type": "code",
   "execution_count": 11,
   "id": "5154fed1",
   "metadata": {},
   "outputs": [
    {
     "name": "stdout",
     "output_type": "stream",
     "text": [
      "<class 'pandas.core.frame.DataFrame'>\n",
      "RangeIndex: 5167782 entries, 0 to 5167781\n",
      "Data columns (total 18 columns):\n",
      " #   Column                        Dtype \n",
      "---  ------                        ----- \n",
      " 0   Date received                 object\n",
      " 1   Product                       object\n",
      " 2   Sub-product                   object\n",
      " 3   Issue                         object\n",
      " 4   Sub-issue                     object\n",
      " 5   Consumer complaint narrative  object\n",
      " 6   Company public response       object\n",
      " 7   Company                       object\n",
      " 8   State                         object\n",
      " 9   ZIP code                      object\n",
      " 10  Tags                          object\n",
      " 11  Consumer consent provided?    object\n",
      " 12  Submitted via                 object\n",
      " 13  Date sent to company          object\n",
      " 14  Company response to consumer  object\n",
      " 15  Timely response?              object\n",
      " 16  Consumer disputed?            object\n",
      " 17  Complaint ID                  int64 \n",
      "dtypes: int64(1), object(17)\n",
      "memory usage: 709.7+ MB\n"
     ]
    }
   ],
   "source": [
    "data.info()"
   ]
  },
  {
   "cell_type": "code",
   "execution_count": 12,
   "id": "2f248ccf",
   "metadata": {},
   "outputs": [
    {
     "name": "stdout",
     "output_type": "stream",
     "text": [
      "Credit reporting, credit repair services, or other personal consumer reports    2163878\n",
      "Credit reporting or other personal consumer reports                              959581\n",
      "Debt collection                                                                  567007\n",
      "Mortgage                                                                         397811\n",
      "Checking or savings account                                                      212459\n",
      "Credit card or prepaid card                                                      206373\n",
      "Credit reporting                                                                 140429\n",
      "Credit card                                                                      132976\n",
      "Student loan                                                                      88116\n",
      "Bank account or service                                                           86205\n",
      "Money transfer, virtual currency, or money service                                68346\n",
      "Vehicle loan or lease                                                             55626\n",
      "Consumer Loan                                                                     31574\n",
      "Payday loan, title loan, or personal loan                                         30640\n",
      "Prepaid card                                                                       8333\n",
      "Payday loan                                                                        5541\n",
      "Payday loan, title loan, personal loan, or advance loan                            5376\n",
      "Money transfers                                                                    5354\n",
      "Debt or credit management                                                          1081\n",
      "Other financial service                                                            1058\n",
      "Virtual currency                                                                     18\n",
      "Name: Product, dtype: int64\n"
     ]
    }
   ],
   "source": [
    "product_counts = data['Product'].value_counts()\n",
    "print(product_counts)"
   ]
  },
  {
   "cell_type": "code",
   "execution_count": 15,
   "id": "aac00db2",
   "metadata": {},
   "outputs": [
    {
     "name": "stdout",
     "output_type": "stream",
     "text": [
      "Year  Month\n",
      "2011  12         2536\n",
      "2012  1          3230\n",
      "      2          3509\n",
      "      3          6230\n",
      "      4          5703\n",
      "                ...  \n",
      "2024  1        143642\n",
      "      2        157698\n",
      "      3        177826\n",
      "      4        164774\n",
      "      5         17677\n",
      "Length: 150, dtype: int64\n"
     ]
    }
   ],
   "source": [
    "data['Date received'] = pd.to_datetime(data['Date received'])\n",
    "data['Year'] = data['Date received'].dt.year\n",
    "data['Month'] = data['Date received'].dt.month\n",
    "complaints_by_month = data.groupby(['Year', 'Month']).size()\n",
    "print(complaints_by_month)"
   ]
  },
  {
   "cell_type": "markdown",
   "id": "23a6973e",
   "metadata": {},
   "source": [
    "#### 2. Given an unsorted array of integers, find the length of the longest continuous increasing subsequence (subarray)."
   ]
  },
  {
   "cell_type": "code",
   "execution_count": 24,
   "id": "10ab8909",
   "metadata": {},
   "outputs": [],
   "source": [
    "def findLength(nums):\n",
    "    if not nums:\n",
    "        return 0 \n",
    "    max_length = 1\n",
    "    current_length = 1\n",
    "    for i in range(1, len(nums)):\n",
    "        if nums[i] > nums[i - 1]:\n",
    "            current_length += 1\n",
    "            max_length = max(max_length, current_length)\n",
    "        else:\n",
    "            current_length = 1\n",
    "    return max_length"
   ]
  },
  {
   "cell_type": "code",
   "execution_count": 25,
   "id": "0a82aee8",
   "metadata": {},
   "outputs": [
    {
     "name": "stdout",
     "output_type": "stream",
     "text": [
      "3\n",
      "1\n"
     ]
    }
   ],
   "source": [
    "nums1 = [1, 3, 5, 4, 7]\n",
    "print(findLength(nums1))\n",
    "\n",
    "nums2 = [2, 2, 2, 2, 2]\n",
    "print(findLength(nums2))"
   ]
  },
  {
   "cell_type": "markdown",
   "id": "87af7b95",
   "metadata": {},
   "source": [
    "#### 3. Given a list of non negative integers, arrange them such that they form the largest number."
   ]
  },
  {
   "cell_type": "code",
   "execution_count": 28,
   "id": "45b89a1a",
   "metadata": {},
   "outputs": [],
   "source": [
    "from functools import cmp_to_key\n",
    "\n",
    "def largestNumber(nums):\n",
    "    # Define custom comparison function\n",
    "    def compare(x, y):\n",
    "        return int(y + x) - int(x + y)\n",
    "    \n",
    "    # Convert numbers to strings and sort using custom comparison function\n",
    "    nums_str = [str(num) for num in nums]\n",
    "    nums_str.sort(key=cmp_to_key(compare))\n",
    "    \n",
    "    # Handle case where all numbers are 0\n",
    "    if nums_str[0] == '0':\n",
    "        return '0'\n",
    "    \n",
    "    # Concatenate sorted strings to form the largest number\n",
    "    return ''.join(nums_str)"
   ]
  },
  {
   "cell_type": "code",
   "execution_count": 29,
   "id": "9d687c0a",
   "metadata": {},
   "outputs": [
    {
     "name": "stdout",
     "output_type": "stream",
     "text": [
      "210\n",
      "9534330\n"
     ]
    }
   ],
   "source": [
    "nums1 = [10, 2]\n",
    "print(largestNumber(nums1))\n",
    "\n",
    "nums2 = [3, 30, 34, 5, 9]\n",
    "print(largestNumber(nums2))"
   ]
  },
  {
   "cell_type": "markdown",
   "id": "9abb854c",
   "metadata": {},
   "source": [
    "#### 4. Store all the \"servlet-name\", and \"servlet-class\" to a csv file from the attached sample_json.json file using Python."
   ]
  },
  {
   "cell_type": "code",
   "execution_count": 16,
   "id": "60ce209a",
   "metadata": {},
   "outputs": [
    {
     "name": "stdout",
     "output_type": "stream",
     "text": [
      "Data has been written to servlet_data.csv successfully.\n"
     ]
    }
   ],
   "source": [
    "import json\n",
    "import csv\n",
    "\n",
    "with open('sample_json.json', 'r') as f:\n",
    "    data = json.load(f)\n",
    "    servlets = data['web-app']['servlet']\n",
    "    servlet_data = [(s['servlet-name'], s['servlet-class']) for s in servlets]\n",
    "\n",
    "csv_file_path = r'C:\\Users\\lokes\\Desktop\\servlet_data.csv'\n",
    "\n",
    "with open(csv_file_path, 'w', newline='') as f:\n",
    "    writer = csv.writer(f)\n",
    "    writer.writerow(['servlet-name', 'servlet-class'])\n",
    "    writer.writerows(servlet_data)\n",
    "\n",
    "print(\"Data has been written to servlet_data.csv successfully.\")"
   ]
  }
 ],
 "metadata": {
  "kernelspec": {
   "display_name": "Python 3 (ipykernel)",
   "language": "python",
   "name": "python3"
  },
  "language_info": {
   "codemirror_mode": {
    "name": "ipython",
    "version": 3
   },
   "file_extension": ".py",
   "mimetype": "text/x-python",
   "name": "python",
   "nbconvert_exporter": "python",
   "pygments_lexer": "ipython3",
   "version": "3.10.9"
  }
 },
 "nbformat": 4,
 "nbformat_minor": 5
}
